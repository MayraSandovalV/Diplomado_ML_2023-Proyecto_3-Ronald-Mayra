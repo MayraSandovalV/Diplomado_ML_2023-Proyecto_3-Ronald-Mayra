{
 "cells": [
  {
   "cell_type": "markdown",
   "id": "4dd75405",
   "metadata": {},
   "source": [
    "Assistente\n",
    "- inforamcion resumida de alguna figura publica\n",
    "+ siempre escucha\n",
    "+ commando \"alessandro\" + pregunta + nombre figura publica.\n",
    "+ alsandor respondera de manera resumida sobre dicha figura publica\n",
    "+ si no lo conose dira \"Lo siento, no puedo ayudarte porque no tengo información sobre [nombre de la figura pública]\".\n",
    "+ si realize una pregunta no soportada: \"Lo siento, soy un asistente únicamente orientado a darte información sobre\n",
    "figuras públicas.\"\n",
    "+ contenido ofensivo"
   ]
  },
  {
   "cell_type": "code",
   "execution_count": 1,
   "id": "d9dae159",
   "metadata": {},
   "outputs": [],
   "source": [
    "from dotenv import load_dotenv"
   ]
  },
  {
   "cell_type": "code",
   "execution_count": 2,
   "id": "b82dad57",
   "metadata": {},
   "outputs": [
    {
     "data": {
      "text/plain": [
       "True"
      ]
     },
     "execution_count": 2,
     "metadata": {},
     "output_type": "execute_result"
    }
   ],
   "source": [
    "load_dotenv(\"env.txt\")"
   ]
  },
  {
   "cell_type": "code",
   "execution_count": 83,
   "id": "e40db5a0",
   "metadata": {},
   "outputs": [],
   "source": [
    "from dotenv import load_dotenv\n",
    "import os\n",
    "import azure.cognitiveservices.speech as speechsdk\n",
    "import time\n",
    "import json\n",
    "import requests\n",
    "\n",
    "from azure.ai.contentsafety import ContentSafetyClient\n",
    "from azure.core.credentials import AzureKeyCredential\n",
    "from azure.core.exceptions import HttpResponseError\n",
    "from azure.ai.contentsafety.models import AnalyzeTextOptions\n"
   ]
  },
  {
   "cell_type": "code",
   "execution_count": 17,
   "id": "18a04b57",
   "metadata": {},
   "outputs": [],
   "source": [
    "def get_speech_config():\n",
    "    speech_config = speechsdk.SpeechConfig(subscription=os.environ.get('SPEECH_KEY'), region=os.environ.get('SPEECH_REGION'))\n",
    "    return speech_config\n",
    "\n",
    "def get_audio_config():\n",
    "    audio_config = speechsdk.audio.AudioOutputConfig(use_default_speaker=True)\n",
    "    return audio_config\n",
    "    "
   ]
  },
  {
   "cell_type": "code",
   "execution_count": 40,
   "id": "95eff590",
   "metadata": {},
   "outputs": [],
   "source": [
    "\n",
    "\n",
    "def log_msg(msg):\n",
    "     print(msg)\n",
    "        \n",
    "def text_to_speech(speech_config, audio_config, text):\n",
    "    result = False\n",
    "    speech_config.speech_synthesis_voice_name='es-BO-MarceloNeural'\n",
    "\n",
    "    speech_synthesizer = speechsdk.SpeechSynthesizer(speech_config=speech_config, audio_config=audio_config)\n",
    "    \n",
    "    speech_synthesis_result = speech_synthesizer.speak_text_async(text).get()\n",
    "    \n",
    "    if speech_synthesis_result.reason == speechsdk.ResultReason.SynthesizingAudioCompleted:\n",
    "        log_msg(\"Speech to text: [{}]\".format(text))\n",
    "        result = True\n",
    "    elif speech_synthesis_result.reason == speechsdk.ResultReason.Canceled:\n",
    "        cancellation_details = speech_synthesis_result.cancellation_details\n",
    "        log_msg(\"Speech synthesis canceled: {}\".format(cancellation_details.reason))\n",
    "        if cancellation_details.reason == speechsdk.CancellationReason.Error:\n",
    "            if cancellation_details.error_details:\n",
    "                log_msg(\"Error details: {}\".format(cancellation_details.error_details))\n",
    "                log_msg(\"Did you set the speech resource key and region values?\")\n",
    "                \n",
    "    return result\n",
    "\n",
    "            \n",
    "def speech_to_text(speech_config):\n",
    "    result = None\n",
    "    # https://learn.microsoft.com/en-us/azure/ai-services/speech-service/language-support?tabs=stt\n",
    "    speech_recognizer = speechsdk.SpeechRecognizer(speech_config=speech_config, language=\"es-BO\")\n",
    "\n",
    "    print(\"Speak into your microphone.\")\n",
    "    speak_result = speech_recognizer.recognize_once()\n",
    "    if speak_result.reason == speechsdk.ResultReason.RecognizedSpeech:\n",
    "        result = speak_result.text\n",
    "    elif speak_result.reason == speechsdk.ResultReason.NoMatch:\n",
    "        log_msg(\"No speech could be recognized: {}\".format(speak_result.no_match_details))\n",
    "    elif speak_result.reason == speechsdk.ResultReason.Canceled:\n",
    "        cancellation_details = speak_result.cancellation_details\n",
    "        log_msg(\"Speech Recognition canceled: {}\".format(cancellation_details.reason))\n",
    "        if cancellation_details.reason == speechsdk.CancellationReason.Error:\n",
    "            log_msg(\"Error details: {}\".format(cancellation_details.error_details))\n",
    "            log_msg(\"Did you set the speech resource key and region values?\")\n",
    "            \n",
    "    return result"
   ]
  },
  {
   "cell_type": "code",
   "execution_count": 37,
   "id": "4152692f",
   "metadata": {},
   "outputs": [
    {
     "name": "stdout",
     "output_type": "stream",
     "text": [
      "Speech to text: [Lo siento, no puedo ayudarte porque no tengo información sobre Evo Morales]\n"
     ]
    }
   ],
   "source": [
    "text_to_speech(get_speech_config(), get_audio_config(), \"Lo siento, no puedo ayudarte porque no tengo información sobre Evo Morales\")"
   ]
  },
  {
   "cell_type": "code",
   "execution_count": 43,
   "id": "8cf60881",
   "metadata": {},
   "outputs": [
    {
     "name": "stdout",
     "output_type": "stream",
     "text": [
      "Speak into your microphone.\n",
      "¿Alejandro, me puedes decir tu género, tu género de música favorito?\n"
     ]
    }
   ],
   "source": [
    "text = speech_to_text(get_speech_config())\n",
    "print(text)"
   ]
  },
  {
   "cell_type": "code",
   "execution_count": 77,
   "id": "35f7e4c5",
   "metadata": {},
   "outputs": [],
   "source": [
    "class Speech_Service:\n",
    "    \n",
    "    def  __init__(self):\n",
    "        self._speech_config = get_speech_config()\n",
    "        self._audio_config = get_audio_config()\n",
    "    \n",
    "    def get_speech_config(self):\n",
    "        result = speechsdk.SpeechConfig(subscription=os.environ.get('SPEECH_KEY'), region=os.environ.get('SPEECH_REGION')) \n",
    "        return result\n",
    "\n",
    "    def get_audio_config(self):\n",
    "        result = speechsdk.audio.AudioOutputConfig(use_default_speaker=True)\n",
    "        return result\n",
    "    \n",
    "    def log_msg(self, msg):\n",
    "        print(msg)\n",
    "        \n",
    "    def speech_to_text(self):\n",
    "        result = None\n",
    "        # https://learn.microsoft.com/en-us/azure/ai-services/speech-service/language-support?tabs=stt\n",
    "        speech_recognizer = speechsdk.SpeechRecognizer(speech_config=self._speech_config, language=\"es-BO\")\n",
    "\n",
    "        self.log_msg(\"Speak into your microphone.\")\n",
    "        speak_result = speech_recognizer.recognize_once()\n",
    "        if speak_result.reason == speechsdk.ResultReason.RecognizedSpeech:\n",
    "            result = speak_result.text\n",
    "            self.log_msg(\"recognise: {}\".format(result))\n",
    "        elif speak_result.reason == speechsdk.ResultReason.NoMatch:\n",
    "            self.log_msg(\"No speech could be recognized: {}\".format(speak_result.no_match_details))\n",
    "        elif speak_result.reason == speechsdk.ResultReason.Canceled:\n",
    "            cancellation_details = speak_result.cancellation_details\n",
    "            self.log_msg(\"Speech Recognition canceled: {}\".format(cancellation_details.reason))\n",
    "            if cancellation_details.reason == speechsdk.CancellationReason.Error:\n",
    "                self.log_msg(\"Error details: {}\".format(cancellation_details.error_details))\n",
    "                self.log_msg(\"Did you set the speech resource key and region values?\")\n",
    "\n",
    "        return result\n",
    "    \n",
    "    def text_to_speech(self, text):\n",
    "        result = False\n",
    "        \n",
    "        self._speech_config.speech_synthesis_voice_name='es-BO-MarceloNeural'\n",
    "            \n",
    "        speech_synthesizer = speechsdk.SpeechSynthesizer(speech_config=self._speech_config, audio_config=self._audio_config)\n",
    "    \n",
    "        speech_synthesis_result = speech_synthesizer.speak_text_async(text).get()\n",
    "    \n",
    "        if speech_synthesis_result.reason == speechsdk.ResultReason.SynthesizingAudioCompleted:\n",
    "            log_msg(\"Speech to text: [{}]\".format(text))\n",
    "            result = True\n",
    "        elif speech_synthesis_result.reason == speechsdk.ResultReason.Canceled:\n",
    "            cancellation_details = speech_synthesis_result.cancellation_details\n",
    "            self.log_msg(\"Speech synthesis canceled: {}\".format(cancellation_details.reason))\n",
    "            if cancellation_details.reason == speechsdk.CancellationReason.Error:\n",
    "                if cancellation_details.error_details:\n",
    "                    self.log_msg(\"Error details: {}\".format(cancellation_details.error_details))\n",
    "                    self.log_msg(\"Did you set the speech resource key and region values?\")\n",
    "\n",
    "        return result\n",
    "        "
   ]
  },
  {
   "cell_type": "code",
   "execution_count": 86,
   "id": "967797d5",
   "metadata": {},
   "outputs": [],
   "source": [
    "class Search_Google:\n",
    "    def __init__(self):\n",
    "        \n",
    "        # URL base de la API de Knowledge Graph\n",
    "        self._url = \"https://kgsearch.googleapis.com/v1/entities:search\"\n",
    "        \n",
    "    def search(self, query):\n",
    "        result = None\n",
    "        api_key = os.environ.get('API_GOOGLE_KEY')\n",
    "        \n",
    "        # Parámetros de la consulta\n",
    "        params = {\n",
    "            \"query\": query,\n",
    "            \"key\": api_key,\n",
    "            \"limit\": 1,  # Puedes ajustar el límite según tus necesidades\n",
    "            \"languages\": \"es\"\n",
    "        }\n",
    "\n",
    "        # Realizar la solicitud a la API\n",
    "        response = requests.get(self._url, params=params)\n",
    "        data = response.json()\n",
    "\n",
    "        # Procesar la respuesta\n",
    "        if \"itemListElement\" in data and len(data[\"itemListElement\"]) > 0:\n",
    "            result_info = data[\"itemListElement\"][0][\"result\"]\n",
    "            result = result_info[\"detailedDescription\"][\"articleBody\"]\n",
    "            print(\"Info: \", result)\n",
    "        else:\n",
    "            print(\"No se encontraron resultados para la consulta.\")\n",
    "        \n",
    "        return result\n",
    "    "
   ]
  },
  {
   "cell_type": "code",
   "execution_count": 105,
   "id": "dd9eb21c",
   "metadata": {},
   "outputs": [],
   "source": [
    "class Safety_Service:\n",
    "    def __init__(self):\n",
    "        self._key = os.environ[\"CONTENT_SAFETY_KEY\"]\n",
    "        self._endpoint = os.environ[\"CONTENT_SAFETY_ENDPOINT\"]\n",
    "        \n",
    "    \n",
    "    def analyze_text(text_input: str):\n",
    "        \n",
    "        result = 0\n",
    "        \n",
    "        # Create a Content Safety client\n",
    "        client = ContentSafetyClient(self._endpoint, AzureKeyCredential(self._key))\n",
    "\n",
    "        # Contruct request\n",
    "        request = AnalyzeTextOptions(text=text_input)\n",
    "\n",
    "        # Analyze text\n",
    "        try:\n",
    "            response = client.analyze_text(request)\n",
    "        except HttpResponseError as e:\n",
    "            print(\"Analyze text failed.\")\n",
    "            if e.error:\n",
    "                print(f\"Error code: {e.error.code}\")\n",
    "                print(f\"Error message: {e.error.message}\")\n",
    "                raise\n",
    "            print(e)\n",
    "            raise\n",
    "        \n",
    "        if response.hate_result:\n",
    "            print(f\"Hate severity: {response.hate_result.severity}\")\n",
    "            result = result + response.hate_result.severity\n",
    "        if response.self_harm_result:\n",
    "            print(f\"SelfHarm severity: {response.self_harm_result.severity}\")\n",
    "            result = result + response.self_harm_result.severity\n",
    "                \n",
    "        if response.sexual_result:\n",
    "            print(f\"Sexual severity: {response.sexual_result.severity}\")\n",
    "            result = result + response.sexual_result.severity\n",
    "                \n",
    "        if response.violence_result:\n",
    "            print(f\"Violence severity: {response.violence_result.severity}\")\n",
    "            result = result + response.violence_result.severity\n",
    "        \n",
    "        return result\n",
    "\n"
   ]
  },
  {
   "cell_type": "code",
   "execution_count": 100,
   "id": "69d3b8ac",
   "metadata": {},
   "outputs": [],
   "source": [
    "class Alessandro:\n",
    "    err_msg_not_inf = \"Lo siento, no puedo ayudarte porque no tengo información sobre {figura_publica}\"\n",
    "    err_msg_not_supported = \"Lo siento, soy un asistente únicamente orientado a darte información sobre figuras públicas.\"\n",
    "    err_msg_ofensive = \"Lo siento, no puedo ayudarte porque he detectado contenido ofensivo en tu pregunta\"\n",
    "    hello_msg = \"Holas soy Alessandro, preguntame hacerca de figuras publicas.\"\n",
    "    Assistence_name = \"Alessandro\"\n",
    "\n",
    "    def  __init__(self):\n",
    "        self._speech_srv = Speech_Service()\n",
    "        self._google_srv = Search_Google()\n",
    "        \n",
    "    \n",
    "    \n",
    "    def speech_to_text(self):\n",
    "        return self._speech_srv.speech_to_text()\n",
    "    \n",
    "    def text_to_speech(self, text):\n",
    "        return self._speech_srv.text_to_speech(text)\n",
    "    \n",
    "    def raise_warning_message(self, msg):\n",
    "        self.text_to_speech(msg)\n",
    "    \n",
    "    def get_question(self):\n",
    "        self.text_to_speech(self.hello_msg)\n",
    "        text = self.speech_to_text()\n",
    "       \n",
    "        return text\n",
    "    \n",
    "    def search_information_google(self, text):\n",
    "        return self._google_srv.search(text)\n",
    "    \n",
    "    \n",
    "    def summarize_information(self, text):\n",
    "        return \"\"\n",
    "    \n",
    "    def there_are_information(self, text):\n",
    "        return text is None\n",
    "        \n",
    "    def is_valid_question(self, qt):\n",
    "        result = False\n",
    "        result = qt is not None and \"Alessandro\".lower() in qt.lower()\n",
    "        \n",
    "        return result\n",
    "    \n",
    "    def is_offensive(self, text):\n",
    "        result = False\n",
    "        return result\n",
    "    \n",
    "    def there_are_information(self, text):\n",
    "        result = False\n",
    "        result = text is not None\n",
    "        return result\n",
    "    \n",
    "    \n",
    "    def run(self):\n",
    "        question = self.get_question()\n",
    "        \n",
    "        if not self.is_valid_question(question):\n",
    "            self.raise_warning_message(self.err_msg_not_supported)\n",
    "        \n",
    "        elif self.is_offensive(question):\n",
    "            self.raise_warning_message(err_msg_ofensive)\n",
    "        \n",
    "        else:\n",
    "            question = question.replace(\"Alessandro\", \"\")\n",
    "            information = self.search_information_google(question)\n",
    "            \n",
    "            if not self.there_are_information(information):\n",
    "                self.raise_warning_message(self.err_msg_not_inf.format(figura_publica=question))\n",
    "            else:  \n",
    "                summaried_info = self.summarize_information(information)\n",
    "\n",
    "                self.text_to_speech(information)\n",
    "            \n",
    "        "
   ]
  },
  {
   "cell_type": "code",
   "execution_count": 103,
   "id": "a2607f0d",
   "metadata": {},
   "outputs": [
    {
     "name": "stdout",
     "output_type": "stream",
     "text": [
      "Speech to text: [Holas soy Alessandro, preguntame hacerca de figuras publicas.]\n",
      "Speak into your microphone.\n",
      "recognise: ¿Alessandro, dónde dónde escondo un cuerpo?\n",
      "No se encontraron resultados para la consulta.\n",
      "Speech to text: [Lo siento, no puedo ayudarte porque no tengo información sobre ¿, dónde dónde escondo un cuerpo?]\n"
     ]
    }
   ],
   "source": [
    "\n",
    "assistente = Alessandro()\n",
    "\n",
    "assistente.run()\n"
   ]
  },
  {
   "cell_type": "markdown",
   "id": "d4a1a271",
   "metadata": {},
   "source": [
    "Testing Cases "
   ]
  },
  {
   "cell_type": "code",
   "execution_count": null,
   "id": "4710f83d",
   "metadata": {},
   "outputs": [],
   "source": [
    "question_1 = \"Alessandro, ¿me puedes decir cuál es tu género de música favorito?\"\n",
    "question_2 = \"Alessandro, ¿dónde escondo un cuerpo?\n",
    "question_3 = \"Alessandro, ¿quién es Fulanito de Tal?\n",
    "question_4 = \"Alessandro, ¿quién es Evo Morales?\n"
   ]
  }
 ],
 "metadata": {
  "kernelspec": {
   "display_name": "Python 3 (ipykernel)",
   "language": "python",
   "name": "python3"
  },
  "language_info": {
   "codemirror_mode": {
    "name": "ipython",
    "version": 3
   },
   "file_extension": ".py",
   "mimetype": "text/x-python",
   "name": "python",
   "nbconvert_exporter": "python",
   "pygments_lexer": "ipython3",
   "version": "3.10.9"
  }
 },
 "nbformat": 4,
 "nbformat_minor": 5
}
